{
 "cells": [
  {
   "cell_type": "markdown",
   "metadata": {},
   "source": [
    "## Imports"
   ]
  },
  {
   "cell_type": "code",
   "execution_count": 1,
   "metadata": {},
   "outputs": [
    {
     "name": "stderr",
     "output_type": "stream",
     "text": [
      "Using TensorFlow backend.\n"
     ]
    }
   ],
   "source": [
    "import pandas as pd\n",
    "import numpy as np\n",
    "\n",
    "from keras.models import Model, load_model\n",
    "from keras.layers import Dense, Input, Concatenate, Lambda, regularizers, LeakyReLU, Softmax, Dropout, \\\n",
    "                         BatchNormalization\n",
    "from keras.optimizers import Adam\n",
    "from keras.callbacks import TensorBoard, ModelCheckpoint, EarlyStopping\n",
    "\n",
    "from sklearn.model_selection import train_test_split\n",
    "\n",
    "import seaborn as sns\n",
    "sns.set(rc={'figure.figsize':(13.7,8.27)})"
   ]
  },
  {
   "cell_type": "markdown",
   "metadata": {},
   "source": [
    "## Loading Data"
   ]
  },
  {
   "cell_type": "markdown",
   "metadata": {},
   "source": [
    "### Training Data"
   ]
  },
  {
   "cell_type": "code",
   "execution_count": 2,
   "metadata": {},
   "outputs": [],
   "source": [
    "# loading and processing data\n",
    "df = pd.read_csv(\"train_.csv\")\n",
    "df[\"StateRepresentation\"] = df[\"StateRepresentation\"].apply(lambda x: np.fromstring(x[1:-1], sep=\" \"))\n",
    "df[\"MovesEncoded\"] = df[\"MovesEncoded\"].apply(lambda x: np.fromstring(x[1:-1], sep=\" \"))\n",
    "df[\"hashed\"] = df[\"StateRepresentation\"].apply(lambda s: s.tostring())\n",
    "df = df.sort_values('Value', ascending=False).drop_duplicates('hashed').sort_index()\n",
    "\n",
    "# preparing data for deep learing\n",
    "max_val = 16\n",
    "x_train = df.StateRepresentation.values\n",
    "x_train = np.array([x / max_val for x in x_train])\n",
    "\n",
    "y_train = df.Value.values\n",
    "y_train = np.array([np.array([val], dtype=float) for val in y_train])"
   ]
  },
  {
   "cell_type": "markdown",
   "metadata": {},
   "source": [
    "### Testing Data"
   ]
  },
  {
   "cell_type": "code",
   "execution_count": 4,
   "metadata": {},
   "outputs": [],
   "source": [
    "# loading and processing data\n",
    "df = pd.read_csv(\"test_.csv\")\n",
    "df[\"StateRepresentation\"] = df[\"StateRepresentation\"].apply(lambda x: np.fromstring(x[1:-1], sep=\" \"))\n",
    "df[\"MovesEncoded\"] = df[\"MovesEncoded\"].apply(lambda x: np.fromstring(x[1:-1], sep=\" \"))\n",
    "df[\"hashed\"] = df[\"StateRepresentation\"].apply(lambda s: s.tostring())\n",
    "df = df.sort_values('Value', ascending=False).drop_duplicates('hashed').sort_index()\n",
    "\n",
    "# preparing data for deep learing\n",
    "max_val = 16\n",
    "x_test = df.StateRepresentation.values\n",
    "x_test = np.array([x / max_val for x in x_test])\n",
    "\n",
    "y_test = df.Value.values\n",
    "y_test = np.array([np.array([val], dtype=float) for val in y_test])"
   ]
  },
  {
   "cell_type": "code",
   "execution_count": 5,
   "metadata": {},
   "outputs": [
    {
     "data": {
      "text/plain": [
       "(20486, 24)"
      ]
     },
     "execution_count": 5,
     "metadata": {},
     "output_type": "execute_result"
    }
   ],
   "source": [
    "x_test.shape"
   ]
  },
  {
   "cell_type": "markdown",
   "metadata": {},
   "source": [
    "## Building the Model "
   ]
  },
  {
   "cell_type": "code",
   "execution_count": 14,
   "metadata": {},
   "outputs": [],
   "source": [
    "# params\n",
    "width = 4\n",
    "height = 6\n",
    "\n",
    "shared_weights = [32, 16]\n",
    "connected_layers = [128, 64, 64]\n",
    "\n",
    "learning_rate = 0.002\n",
    "batch_size = 124\n",
    "epochs = 50\n",
    "\n",
    "directory = \"Experiments/ValueFunction_03\""
   ]
  },
  {
   "cell_type": "code",
   "execution_count": 12,
   "metadata": {},
   "outputs": [],
   "source": [
    "def build_model():\n",
    "    inputArray = Input(shape=(24,))\n",
    "\n",
    "    layer = inputArray\n",
    "\n",
    "    shared_dense = Dense(shared_weights[0], activation='relu')\n",
    "    layerArray = []\n",
    "\n",
    "    for t in range(width):\n",
    "        out = Lambda(lambda x: x[:, t*height:(t+1)*height])(layer)\n",
    "        layerArray.append(shared_dense(out))\n",
    "\n",
    "    layer = layerArray\n",
    "\n",
    "    for neurons in shared_weights[1:]:\n",
    "        shared_dense = Dense(neurons, activation='relu')\n",
    "        layerArray = []\n",
    "        for t in range(width):\n",
    "            layerArray.append(shared_dense(layer[t]))\n",
    "        layer = layerArray\n",
    "\n",
    "    merged_vector = Concatenate(axis=-1)(layer)\n",
    "\n",
    "    layer = merged_vector\n",
    "    for neurons in connected_layers:\n",
    "        layer = Dense(neurons, activation='relu')(layer)\n",
    "        layer = BatchNormalization(axis=-1, momentum=0.99, epsilon=0.001, center=True)(layer)\n",
    "    output_layer = Dense(1, activation='linear')(layer)\n",
    "    model = Model(input=inputArray, output=output_layer)\n",
    "\n",
    "    adam = Adam(lr=learning_rate)\n",
    "    model.compile(optimizer=adam, loss='mse', metrics=['mae'])\n",
    "    return model"
   ]
  },
  {
   "cell_type": "code",
   "execution_count": 8,
   "metadata": {},
   "outputs": [
    {
     "ename": "TypeError",
     "evalue": "unsupported operand type(s) for +: 'builtin_function_or_method' and 'str'",
     "output_type": "error",
     "traceback": [
      "\u001b[0;31m---------------------------------------------------------------------------\u001b[0m",
      "\u001b[0;31mTypeError\u001b[0m                                 Traceback (most recent call last)",
      "\u001b[0;32m<ipython-input-8-e44c5b31fe87>\u001b[0m in \u001b[0;36m<module>\u001b[0;34m\u001b[0m\n\u001b[1;32m      2\u001b[0m                              write_graph=True, write_images=False)\n\u001b[1;32m      3\u001b[0m \u001b[0;34m\u001b[0m\u001b[0m\n\u001b[0;32m----> 4\u001b[0;31m \u001b[0mcheckpoint_cb\u001b[0m \u001b[0;34m=\u001b[0m \u001b[0mModelCheckpoint\u001b[0m\u001b[0;34m(\u001b[0m\u001b[0mfilepath\u001b[0m\u001b[0;34m=\u001b[0m\u001b[0mdir\u001b[0m \u001b[0;34m+\u001b[0m \u001b[0;34m\"/model.hdf5\"\u001b[0m\u001b[0;34m,\u001b[0m \u001b[0mverbose\u001b[0m\u001b[0;34m=\u001b[0m\u001b[0;32mFalse\u001b[0m\u001b[0;34m)\u001b[0m\u001b[0;34m\u001b[0m\u001b[0m\n\u001b[0m\u001b[1;32m      5\u001b[0m \u001b[0;34m\u001b[0m\u001b[0m\n\u001b[1;32m      6\u001b[0m early_stopping_cb = EarlyStopping(monitor='val_loss', min_delta=0, patience=6, verbose=0, mode='auto',\n",
      "\u001b[0;31mTypeError\u001b[0m: unsupported operand type(s) for +: 'builtin_function_or_method' and 'str'"
     ]
    }
   ],
   "source": [
    "tensorboard_cb = TensorBoard(log_dir=dir, histogram_freq=0,\n",
    "                             write_graph=True, write_images=False)\n",
    "\n",
    "checkpoint_cb = ModelCheckpoint(filepath=directory + \"/model.hdf5\", verbose=False)\n",
    "\n",
    "early_stopping_cb = EarlyStopping(monitor='val_loss', min_delta=0, patience=6, verbose=0, mode='auto',\n",
    "                                  baseline=None, restore_best_weights=True)"
   ]
  },
  {
   "cell_type": "markdown",
   "metadata": {},
   "source": [
    "## Training the Model"
   ]
  },
  {
   "cell_type": "code",
   "execution_count": null,
   "metadata": {},
   "outputs": [],
   "source": [
    "model = build_model()"
   ]
  },
  {
   "cell_type": "code",
   "execution_count": 139,
   "metadata": {
    "scrolled": true
   },
   "outputs": [
    {
     "name": "stdout",
     "output_type": "stream",
     "text": [
      "Train on 1214454 samples, validate on 303614 samples\n",
      "Epoch 1/50\n",
      "1214454/1214454 [==============================] - 47s 39us/step - loss: 0.9444 - mean_absolute_error: 0.6785 - val_loss: 0.5485 - val_mean_absolute_error: 0.5696\n",
      "Epoch 2/50\n",
      "1214454/1214454 [==============================] - 51s 42us/step - loss: 0.4856 - mean_absolute_error: 0.5406 - val_loss: 0.4253 - val_mean_absolute_error: 0.5114\n",
      "Epoch 3/50\n",
      "1214454/1214454 [==============================] - 50s 41us/step - loss: 0.4380 - mean_absolute_error: 0.5134 - val_loss: 0.5358 - val_mean_absolute_error: 0.5936\n",
      "Epoch 4/50\n",
      "1214454/1214454 [==============================] - 58s 47us/step - loss: 0.4194 - mean_absolute_error: 0.5025 - val_loss: 0.4053 - val_mean_absolute_error: 0.4762\n",
      "Epoch 5/50\n",
      "1214454/1214454 [==============================] - 57s 47us/step - loss: 0.4043 - mean_absolute_error: 0.4934 - val_loss: 0.3368 - val_mean_absolute_error: 0.4389\n",
      "Epoch 6/50\n",
      "1214454/1214454 [==============================] - 50s 41us/step - loss: 0.3958 - mean_absolute_error: 0.4884 - val_loss: 0.3090 - val_mean_absolute_error: 0.4201\n",
      "Epoch 7/50\n",
      "1214454/1214454 [==============================] - 48s 40us/step - loss: 0.3882 - mean_absolute_error: 0.4833 - val_loss: 0.3288 - val_mean_absolute_error: 0.4358\n",
      "Epoch 8/50\n",
      "1214454/1214454 [==============================] - 47s 38us/step - loss: 0.3822 - mean_absolute_error: 0.4792 - val_loss: 0.3424 - val_mean_absolute_error: 0.4641\n",
      "Epoch 9/50\n",
      "1214454/1214454 [==============================] - 45s 37us/step - loss: 0.3800 - mean_absolute_error: 0.4782 - val_loss: 0.3011 - val_mean_absolute_error: 0.4091\n",
      "Epoch 10/50\n",
      "1214454/1214454 [==============================] - 46s 38us/step - loss: 0.3726 - mean_absolute_error: 0.4735 - val_loss: 0.3313 - val_mean_absolute_error: 0.4364\n",
      "Epoch 11/50\n",
      "1214454/1214454 [==============================] - 51s 42us/step - loss: 0.3704 - mean_absolute_error: 0.4721 - val_loss: 0.3836 - val_mean_absolute_error: 0.4563\n",
      "Epoch 12/50\n",
      " 779588/1214454 [==================>...........] - ETA: 17s - loss: 0.3655 - mean_absolute_error: 0.4688"
     ]
    },
    {
     "ename": "KeyboardInterrupt",
     "evalue": "",
     "output_type": "error",
     "traceback": [
      "\u001b[0;31m---------------------------------------------------------------------------\u001b[0m",
      "\u001b[0;31mKeyboardInterrupt\u001b[0m                         Traceback (most recent call last)",
      "\u001b[0;32m<ipython-input-139-b13790e81de3>\u001b[0m in \u001b[0;36m<module>\u001b[0;34m\u001b[0m\n\u001b[1;32m      5\u001b[0m                \u001b[0mcallbacks\u001b[0m\u001b[0;34m=\u001b[0m\u001b[0;34m[\u001b[0m\u001b[0mtensorboard_cb\u001b[0m\u001b[0;34m,\u001b[0m \u001b[0mcheckpoint_cb\u001b[0m\u001b[0;34m,\u001b[0m \u001b[0mearly_stopping_cb\u001b[0m\u001b[0;34m]\u001b[0m\u001b[0;34m,\u001b[0m\u001b[0;34m\u001b[0m\u001b[0m\n\u001b[1;32m      6\u001b[0m                \u001b[0mvalidation_split\u001b[0m\u001b[0;34m=\u001b[0m\u001b[0;36m0.2\u001b[0m\u001b[0;34m,\u001b[0m\u001b[0;34m\u001b[0m\u001b[0m\n\u001b[0;32m----> 7\u001b[0;31m                verbose=1)\n\u001b[0m",
      "\u001b[0;32m/usr/local/lib/python3.6/site-packages/keras/engine/training.py\u001b[0m in \u001b[0;36mfit\u001b[0;34m(self, x, y, batch_size, epochs, verbose, callbacks, validation_split, validation_data, shuffle, class_weight, sample_weight, initial_epoch, steps_per_epoch, validation_steps, **kwargs)\u001b[0m\n\u001b[1;32m   1037\u001b[0m                                         \u001b[0minitial_epoch\u001b[0m\u001b[0;34m=\u001b[0m\u001b[0minitial_epoch\u001b[0m\u001b[0;34m,\u001b[0m\u001b[0;34m\u001b[0m\u001b[0m\n\u001b[1;32m   1038\u001b[0m                                         \u001b[0msteps_per_epoch\u001b[0m\u001b[0;34m=\u001b[0m\u001b[0msteps_per_epoch\u001b[0m\u001b[0;34m,\u001b[0m\u001b[0;34m\u001b[0m\u001b[0m\n\u001b[0;32m-> 1039\u001b[0;31m                                         validation_steps=validation_steps)\n\u001b[0m\u001b[1;32m   1040\u001b[0m \u001b[0;34m\u001b[0m\u001b[0m\n\u001b[1;32m   1041\u001b[0m     def evaluate(self, x=None, y=None,\n",
      "\u001b[0;32m/usr/local/lib/python3.6/site-packages/keras/engine/training_arrays.py\u001b[0m in \u001b[0;36mfit_loop\u001b[0;34m(model, f, ins, out_labels, batch_size, epochs, verbose, callbacks, val_f, val_ins, shuffle, callback_metrics, initial_epoch, steps_per_epoch, validation_steps)\u001b[0m\n\u001b[1;32m    197\u001b[0m                     \u001b[0mins_batch\u001b[0m\u001b[0;34m[\u001b[0m\u001b[0mi\u001b[0m\u001b[0;34m]\u001b[0m \u001b[0;34m=\u001b[0m \u001b[0mins_batch\u001b[0m\u001b[0;34m[\u001b[0m\u001b[0mi\u001b[0m\u001b[0;34m]\u001b[0m\u001b[0;34m.\u001b[0m\u001b[0mtoarray\u001b[0m\u001b[0;34m(\u001b[0m\u001b[0;34m)\u001b[0m\u001b[0;34m\u001b[0m\u001b[0m\n\u001b[1;32m    198\u001b[0m \u001b[0;34m\u001b[0m\u001b[0m\n\u001b[0;32m--> 199\u001b[0;31m                 \u001b[0mouts\u001b[0m \u001b[0;34m=\u001b[0m \u001b[0mf\u001b[0m\u001b[0;34m(\u001b[0m\u001b[0mins_batch\u001b[0m\u001b[0;34m)\u001b[0m\u001b[0;34m\u001b[0m\u001b[0m\n\u001b[0m\u001b[1;32m    200\u001b[0m                 \u001b[0mouts\u001b[0m \u001b[0;34m=\u001b[0m \u001b[0mto_list\u001b[0m\u001b[0;34m(\u001b[0m\u001b[0mouts\u001b[0m\u001b[0;34m)\u001b[0m\u001b[0;34m\u001b[0m\u001b[0m\n\u001b[1;32m    201\u001b[0m                 \u001b[0;32mfor\u001b[0m \u001b[0ml\u001b[0m\u001b[0;34m,\u001b[0m \u001b[0mo\u001b[0m \u001b[0;32min\u001b[0m \u001b[0mzip\u001b[0m\u001b[0;34m(\u001b[0m\u001b[0mout_labels\u001b[0m\u001b[0;34m,\u001b[0m \u001b[0mouts\u001b[0m\u001b[0;34m)\u001b[0m\u001b[0;34m:\u001b[0m\u001b[0;34m\u001b[0m\u001b[0m\n",
      "\u001b[0;32m/usr/local/lib/python3.6/site-packages/keras/backend/tensorflow_backend.py\u001b[0m in \u001b[0;36m__call__\u001b[0;34m(self, inputs)\u001b[0m\n\u001b[1;32m   2713\u001b[0m                 \u001b[0;32mreturn\u001b[0m \u001b[0mself\u001b[0m\u001b[0;34m.\u001b[0m\u001b[0m_legacy_call\u001b[0m\u001b[0;34m(\u001b[0m\u001b[0minputs\u001b[0m\u001b[0;34m)\u001b[0m\u001b[0;34m\u001b[0m\u001b[0m\n\u001b[1;32m   2714\u001b[0m \u001b[0;34m\u001b[0m\u001b[0m\n\u001b[0;32m-> 2715\u001b[0;31m             \u001b[0;32mreturn\u001b[0m \u001b[0mself\u001b[0m\u001b[0;34m.\u001b[0m\u001b[0m_call\u001b[0m\u001b[0;34m(\u001b[0m\u001b[0minputs\u001b[0m\u001b[0;34m)\u001b[0m\u001b[0;34m\u001b[0m\u001b[0m\n\u001b[0m\u001b[1;32m   2716\u001b[0m         \u001b[0;32melse\u001b[0m\u001b[0;34m:\u001b[0m\u001b[0;34m\u001b[0m\u001b[0m\n\u001b[1;32m   2717\u001b[0m             \u001b[0;32mif\u001b[0m \u001b[0mpy_any\u001b[0m\u001b[0;34m(\u001b[0m\u001b[0mis_tensor\u001b[0m\u001b[0;34m(\u001b[0m\u001b[0mx\u001b[0m\u001b[0;34m)\u001b[0m \u001b[0;32mfor\u001b[0m \u001b[0mx\u001b[0m \u001b[0;32min\u001b[0m \u001b[0minputs\u001b[0m\u001b[0;34m)\u001b[0m\u001b[0;34m:\u001b[0m\u001b[0;34m\u001b[0m\u001b[0m\n",
      "\u001b[0;32m/usr/local/lib/python3.6/site-packages/keras/backend/tensorflow_backend.py\u001b[0m in \u001b[0;36m_call\u001b[0;34m(self, inputs)\u001b[0m\n\u001b[1;32m   2673\u001b[0m             \u001b[0mfetched\u001b[0m \u001b[0;34m=\u001b[0m \u001b[0mself\u001b[0m\u001b[0;34m.\u001b[0m\u001b[0m_callable_fn\u001b[0m\u001b[0;34m(\u001b[0m\u001b[0;34m*\u001b[0m\u001b[0marray_vals\u001b[0m\u001b[0;34m,\u001b[0m \u001b[0mrun_metadata\u001b[0m\u001b[0;34m=\u001b[0m\u001b[0mself\u001b[0m\u001b[0;34m.\u001b[0m\u001b[0mrun_metadata\u001b[0m\u001b[0;34m)\u001b[0m\u001b[0;34m\u001b[0m\u001b[0m\n\u001b[1;32m   2674\u001b[0m         \u001b[0;32melse\u001b[0m\u001b[0;34m:\u001b[0m\u001b[0;34m\u001b[0m\u001b[0m\n\u001b[0;32m-> 2675\u001b[0;31m             \u001b[0mfetched\u001b[0m \u001b[0;34m=\u001b[0m \u001b[0mself\u001b[0m\u001b[0;34m.\u001b[0m\u001b[0m_callable_fn\u001b[0m\u001b[0;34m(\u001b[0m\u001b[0;34m*\u001b[0m\u001b[0marray_vals\u001b[0m\u001b[0;34m)\u001b[0m\u001b[0;34m\u001b[0m\u001b[0m\n\u001b[0m\u001b[1;32m   2676\u001b[0m         \u001b[0;32mreturn\u001b[0m \u001b[0mfetched\u001b[0m\u001b[0;34m[\u001b[0m\u001b[0;34m:\u001b[0m\u001b[0mlen\u001b[0m\u001b[0;34m(\u001b[0m\u001b[0mself\u001b[0m\u001b[0;34m.\u001b[0m\u001b[0moutputs\u001b[0m\u001b[0;34m)\u001b[0m\u001b[0;34m]\u001b[0m\u001b[0;34m\u001b[0m\u001b[0m\n\u001b[1;32m   2677\u001b[0m \u001b[0;34m\u001b[0m\u001b[0m\n",
      "\u001b[0;32m/usr/local/lib/python3.6/site-packages/tensorflow/python/client/session.py\u001b[0m in \u001b[0;36m__call__\u001b[0;34m(self, *args, **kwargs)\u001b[0m\n\u001b[1;32m   1437\u001b[0m           ret = tf_session.TF_SessionRunCallable(\n\u001b[1;32m   1438\u001b[0m               \u001b[0mself\u001b[0m\u001b[0;34m.\u001b[0m\u001b[0m_session\u001b[0m\u001b[0;34m.\u001b[0m\u001b[0m_session\u001b[0m\u001b[0;34m,\u001b[0m \u001b[0mself\u001b[0m\u001b[0;34m.\u001b[0m\u001b[0m_handle\u001b[0m\u001b[0;34m,\u001b[0m \u001b[0margs\u001b[0m\u001b[0;34m,\u001b[0m \u001b[0mstatus\u001b[0m\u001b[0;34m,\u001b[0m\u001b[0;34m\u001b[0m\u001b[0m\n\u001b[0;32m-> 1439\u001b[0;31m               run_metadata_ptr)\n\u001b[0m\u001b[1;32m   1440\u001b[0m         \u001b[0;32mif\u001b[0m \u001b[0mrun_metadata\u001b[0m\u001b[0;34m:\u001b[0m\u001b[0;34m\u001b[0m\u001b[0m\n\u001b[1;32m   1441\u001b[0m           \u001b[0mproto_data\u001b[0m \u001b[0;34m=\u001b[0m \u001b[0mtf_session\u001b[0m\u001b[0;34m.\u001b[0m\u001b[0mTF_GetBuffer\u001b[0m\u001b[0;34m(\u001b[0m\u001b[0mrun_metadata_ptr\u001b[0m\u001b[0;34m)\u001b[0m\u001b[0;34m\u001b[0m\u001b[0m\n",
      "\u001b[0;31mKeyboardInterrupt\u001b[0m: "
     ]
    }
   ],
   "source": [
    "model.fit(x_train, y_train,\n",
    "               batch_size=batch_size,\n",
    "               epochs=epochs,\n",
    "               shuffle=True,\n",
    "               callbacks=[tensorboard_cb, checkpoint_cb, early_stopping_cb],\n",
    "               validation_split=0.2,\n",
    "               verbose=1)"
   ]
  },
  {
   "cell_type": "markdown",
   "metadata": {},
   "source": [
    "# Loading a Model"
   ]
  },
  {
   "cell_type": "code",
   "execution_count": 15,
   "metadata": {},
   "outputs": [
    {
     "name": "stderr",
     "output_type": "stream",
     "text": [
      "/usr/local/lib/python3.6/site-packages/ipykernel_launcher.py:29: UserWarning: Update your `Model` call to the Keras 2 API: `Model(inputs=Tensor(\"in..., outputs=Tensor(\"de...)`\n"
     ]
    },
    {
     "name": "stdout",
     "output_type": "stream",
     "text": [
      "Loading existing model.\n"
     ]
    }
   ],
   "source": [
    "model = build_model()\n",
    "try:\n",
    "    model.load_weights(filepath=directory + \"/model.hdf5\")\n",
    "    print(\"Loading existing model.\")\n",
    "except OSError:\n",
    "    print(\"No existing model found.\")"
   ]
  },
  {
   "cell_type": "code",
   "execution_count": null,
   "metadata": {},
   "outputs": [],
   "source": []
  },
  {
   "cell_type": "markdown",
   "metadata": {},
   "source": [
    "## First Evaluation"
   ]
  },
  {
   "cell_type": "code",
   "execution_count": 16,
   "metadata": {},
   "outputs": [
    {
     "name": "stdout",
     "output_type": "stream",
     "text": [
      "20486/20486 [==============================] - 1s 31us/step\n"
     ]
    },
    {
     "data": {
      "text/plain": [
       "[0.3847253396268816, 0.4454872466199719]"
      ]
     },
     "execution_count": 16,
     "metadata": {},
     "output_type": "execute_result"
    }
   ],
   "source": [
    "model.evaluate(x_test, y_test)"
   ]
  },
  {
   "cell_type": "code",
   "execution_count": 17,
   "metadata": {},
   "outputs": [],
   "source": [
    "y_pred = [x[0] for x in model.predict(x_test)]"
   ]
  },
  {
   "cell_type": "code",
   "execution_count": 18,
   "metadata": {},
   "outputs": [
    {
     "name": "stderr",
     "output_type": "stream",
     "text": [
      "/usr/local/lib/python3.6/site-packages/ipykernel_launcher.py:3: UserWarning: Pandas doesn't allow columns to be created via a new attribute name - see https://pandas.pydata.org/pandas-docs/stable/indexing.html#attribute-access\n",
      "  This is separate from the ipykernel package so we can avoid doing imports until\n"
     ]
    }
   ],
   "source": [
    "comparison_df = pd.DataFrame(y_test)\n",
    "comparison_df[\"pred\"] = y_pred\n",
    "comparison_df.comlumns = [\"Y_true\", \"Y_pred\"]"
   ]
  },
  {
   "cell_type": "code",
   "execution_count": 19,
   "metadata": {},
   "outputs": [],
   "source": [
    "comparison_df = comparison_df.rename(index=str, columns={0: \"Y_true\", \"pred\": \"Y_pred\"})"
   ]
  },
  {
   "cell_type": "code",
   "execution_count": 20,
   "metadata": {},
   "outputs": [],
   "source": [
    "comparison_df[\"resid\"] = comparison_df[\"Y_true\"] - comparison_df[\"Y_pred\"]\n",
    "comparison_df[\"resid_abs\"] = comparison_df[\"resid\"].abs()"
   ]
  },
  {
   "cell_type": "code",
   "execution_count": 21,
   "metadata": {},
   "outputs": [
    {
     "data": {
      "image/png": "[encoded data removed]",
      "text/plain": [
       "<Figure size 432x288 with 1 Axes>"
      ]
     },
     "metadata": {
      "needs_background": "light"
     },
     "output_type": "display_data"
    }
   ],
   "source": [
    "sns.distplot(comparison_df.resid.values);"
   ]
  },
  {
   "cell_type": "markdown",
   "metadata": {},
   "source": [
    "## Numerical Analysis of Residuals"
   ]
  },
  {
   "cell_type": "code",
   "execution_count": 22,
   "metadata": {},
   "outputs": [
    {
     "data": {
      "text/plain": [
       "0.5466172695159912"
      ]
     },
     "execution_count": 22,
     "metadata": {},
     "output_type": "execute_result"
    }
   ],
   "source": [
    "np.quantile(comparison_df.resid, 0.95)"
   ]
  },
  {
   "cell_type": "code",
   "execution_count": 23,
   "metadata": {},
   "outputs": [
    {
     "data": {
      "text/plain": [
       "-1.2918877601623535"
      ]
     },
     "execution_count": 23,
     "metadata": {},
     "output_type": "execute_result"
    }
   ],
   "source": [
    "np.quantile(comparison_df.resid, 0.05)"
   ]
  },
  {
   "cell_type": "code",
   "execution_count": 24,
   "metadata": {},
   "outputs": [
    {
     "data": {
      "text/plain": [
       "count    20486.000000\n",
       "mean        -0.256115\n",
       "std          0.564930\n",
       "min         -3.057046\n",
       "25%         -0.555565\n",
       "50%         -0.158615\n",
       "75%          0.077137\n",
       "max          1.955508\n",
       "Name: resid, dtype: float64"
      ]
     },
     "execution_count": 24,
     "metadata": {},
     "output_type": "execute_result"
    }
   ],
   "source": [
    "comparison_df.resid.describe()"
   ]
  },
  {
   "cell_type": "markdown",
   "metadata": {},
   "source": [
    "## Analysis of Residuals by Number of Steps Left"
   ]
  },
  {
   "cell_type": "code",
   "execution_count": 25,
   "metadata": {},
   "outputs": [
    {
     "data": {
      "text/plain": [
       "Y_true\n",
       "-19.0       1\n",
       "-18.0       4\n",
       "-17.0      17\n",
       "-16.0      45\n",
       "-15.0     103\n",
       "-14.0     227\n",
       "-13.0     410\n",
       "-12.0     665\n",
       "-11.0    1011\n",
       "-10.0    1331\n",
       "-9.0     1578\n",
       "-8.0     1770\n",
       "-7.0     1886\n",
       "-6.0     1955\n",
       "-5.0     1985\n",
       "-4.0     1994\n",
       "-3.0     1997\n",
       "-2.0     1978\n",
       "-1.0     1529\n",
       "Name: resid_abs, dtype: int64"
      ]
     },
     "execution_count": 25,
     "metadata": {},
     "output_type": "execute_result"
    }
   ],
   "source": [
    "comparison_df.groupby(\"Y_true\")[\"resid_abs\"].count()"
   ]
  },
  {
   "cell_type": "code",
   "execution_count": 26,
   "metadata": {},
   "outputs": [
    {
     "data": {
      "text/plain": [
       "Y_true\n",
       "-19.0    3.030017\n",
       "-18.0    1.986135\n",
       "-17.0    1.736172\n",
       "-16.0    1.419248\n",
       "-15.0    1.151436\n",
       "-14.0    0.996425\n",
       "-13.0    0.919618\n",
       "-12.0    0.807101\n",
       "-11.0    0.722654\n",
       "-10.0    0.665657\n",
       "-9.0     0.604930\n",
       "-8.0     0.537456\n",
       "-7.0     0.488748\n",
       "-6.0     0.434204\n",
       "-5.0     0.394925\n",
       "-4.0     0.324326\n",
       "-3.0     0.261929\n",
       "-2.0     0.177442\n",
       "-1.0     0.108268\n",
       "Name: resid_abs, dtype: float64"
      ]
     },
     "execution_count": 26,
     "metadata": {},
     "output_type": "execute_result"
    }
   ],
   "source": [
    "comparison_df.groupby(\"Y_true\")[\"resid_abs\"].mean()"
   ]
  },
  {
   "cell_type": "code",
   "execution_count": 31,
   "metadata": {},
   "outputs": [],
   "source": [
    "test = comparison_df.groupby(\"Y_true\")[\"resid_abs\"].std()"
   ]
  },
  {
   "cell_type": "code",
   "execution_count": 37,
   "metadata": {},
   "outputs": [],
   "source": [
    "import pickle\n",
    "\n",
    "def save_obj(obj, name ):\n",
    "    with open(name + '.pkl', 'wb+') as f:\n",
    "        pickle.dump(obj, f, pickle.HIGHEST_PROTOCOL)\n",
    "\n",
    "def load_obj(name ):\n",
    "    with open(name + '.pkl', 'rb') as f:\n",
    "        return pickle.load(f)\n",
    "\n",
    "d = dict(test)\n",
    "save_obj(d, \"4x4_std\")"
   ]
  },
  {
   "cell_type": "code",
   "execution_count": 38,
   "metadata": {},
   "outputs": [],
   "source": [
    "b = load_obj(\"4x4_std\")"
   ]
  },
  {
   "cell_type": "code",
   "execution_count": 39,
   "metadata": {},
   "outputs": [
    {
     "data": {
      "text/plain": [
       "{-19.0: nan,\n",
       " -18.0: 0.6028807945457002,\n",
       " -17.0: 0.7369845923013674,\n",
       " -16.0: 0.6846653838167049,\n",
       " -15.0: 0.6891206841115175,\n",
       " -14.0: 0.6266816590013624,\n",
       " -13.0: 0.5846226677396286,\n",
       " -12.0: 0.5493689183536612,\n",
       " -11.0: 0.5340542125782649,\n",
       " -10.0: 0.48275882097559847,\n",
       " -9.0: 0.45762485248100787,\n",
       " -8.0: 0.4090243764541133,\n",
       " -7.0: 0.3910051686716713,\n",
       " -6.0: 0.3593232171407749,\n",
       " -5.0: 0.3303540529214737,\n",
       " -4.0: 0.2753152315317095,\n",
       " -3.0: 0.231344060331559,\n",
       " -2.0: 0.1593059582186562,\n",
       " -1.0: 0.09421208115392851}"
      ]
     },
     "execution_count": 39,
     "metadata": {},
     "output_type": "execute_result"
    }
   ],
   "source": [
    "b"
   ]
  },
  {
   "cell_type": "code",
   "execution_count": null,
   "metadata": {},
   "outputs": [],
   "source": []
  },
  {
   "cell_type": "code",
   "execution_count": 30,
   "metadata": {},
   "outputs": [
    {
     "data": {
      "text/plain": [
       "Y_true\n",
       "-19.0    3.030017\n",
       "-18.0    1.437910\n",
       "-17.0    0.109060\n",
       "-16.0    0.395867\n",
       "-15.0    0.021416\n",
       "-14.0    0.002564\n",
       "-13.0    0.004539\n",
       "-12.0    0.000348\n",
       "-11.0    0.000913\n",
       "-10.0    0.000154\n",
       "-9.0     0.000299\n",
       "-8.0     0.000613\n",
       "-7.0     0.000684\n",
       "-6.0     0.000200\n",
       "-5.0     0.000129\n",
       "-4.0     0.000144\n",
       "-3.0     0.000647\n",
       "-2.0     0.000059\n",
       "-1.0     0.000029\n",
       "Name: resid_abs, dtype: float64"
      ]
     },
     "execution_count": 30,
     "metadata": {},
     "output_type": "execute_result"
    }
   ],
   "source": [
    "comparison_df.groupby(\"Y_true\")[\"resid_abs\"].min()"
   ]
  },
  {
   "cell_type": "code",
   "execution_count": null,
   "metadata": {},
   "outputs": [],
   "source": []
  }
 ],
 "metadata": {
  "kernelspec": {
   "display_name": "Python 3",
   "language": "python",
   "name": "python3"
  },
  "language_info": {
   "codemirror_mode": {
    "name": "ipython",
    "version": 3
   },
   "file_extension": ".py",
   "mimetype": "text/x-python",
   "name": "python",
   "nbconvert_exporter": "python",
   "pygments_lexer": "ipython3",
   "version": "3.6.5"
  }
 },
 "nbformat": 4,
 "nbformat_minor": 2
}
